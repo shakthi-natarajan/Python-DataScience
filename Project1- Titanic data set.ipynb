{
 "cells": [
  {
   "cell_type": "code",
   "execution_count": 22,
   "id": "77591a27",
   "metadata": {},
   "outputs": [],
   "source": [
    "import numpy as np\n",
    "import pandas as pd\n",
    "import matplotlib.pyplot as pt\n",
    "%matplotlib inline"
   ]
  },
  {
   "cell_type": "code",
   "execution_count": 23,
   "id": "60b99a6e",
   "metadata": {},
   "outputs": [],
   "source": [
    "#reading csv file\n",
    "DataSet=pd.read_csv('Titanic.csv')"
   ]
  },
  {
   "cell_type": "code",
   "execution_count": 29,
   "id": "ffc6d19f",
   "metadata": {
    "scrolled": true
   },
   "outputs": [
    {
     "data": {
      "text/html": [
       "<div>\n",
       "<style scoped>\n",
       "    .dataframe tbody tr th:only-of-type {\n",
       "        vertical-align: middle;\n",
       "    }\n",
       "\n",
       "    .dataframe tbody tr th {\n",
       "        vertical-align: top;\n",
       "    }\n",
       "\n",
       "    .dataframe thead th {\n",
       "        text-align: right;\n",
       "    }\n",
       "</style>\n",
       "<table border=\"1\" class=\"dataframe\">\n",
       "  <thead>\n",
       "    <tr style=\"text-align: right;\">\n",
       "      <th></th>\n",
       "      <th>Unnamed: 0</th>\n",
       "      <th>survived</th>\n",
       "      <th>sex</th>\n",
       "      <th>age</th>\n",
       "      <th>passengerClass</th>\n",
       "    </tr>\n",
       "  </thead>\n",
       "  <tbody>\n",
       "    <tr>\n",
       "      <th>0</th>\n",
       "      <td>Allen, Miss. Elisabeth Walton</td>\n",
       "      <td>yes</td>\n",
       "      <td>female</td>\n",
       "      <td>29.0000</td>\n",
       "      <td>1st</td>\n",
       "    </tr>\n",
       "    <tr>\n",
       "      <th>1</th>\n",
       "      <td>Allison, Master. Hudson Trevor</td>\n",
       "      <td>yes</td>\n",
       "      <td>male</td>\n",
       "      <td>0.9167</td>\n",
       "      <td>1st</td>\n",
       "    </tr>\n",
       "    <tr>\n",
       "      <th>2</th>\n",
       "      <td>Allison, Miss. Helen Loraine</td>\n",
       "      <td>no</td>\n",
       "      <td>female</td>\n",
       "      <td>2.0000</td>\n",
       "      <td>1st</td>\n",
       "    </tr>\n",
       "    <tr>\n",
       "      <th>3</th>\n",
       "      <td>Allison, Mr. Hudson Joshua Crei</td>\n",
       "      <td>no</td>\n",
       "      <td>male</td>\n",
       "      <td>30.0000</td>\n",
       "      <td>1st</td>\n",
       "    </tr>\n",
       "    <tr>\n",
       "      <th>4</th>\n",
       "      <td>Allison, Mrs. Hudson J C (Bessi</td>\n",
       "      <td>no</td>\n",
       "      <td>female</td>\n",
       "      <td>25.0000</td>\n",
       "      <td>1st</td>\n",
       "    </tr>\n",
       "    <tr>\n",
       "      <th>...</th>\n",
       "      <td>...</td>\n",
       "      <td>...</td>\n",
       "      <td>...</td>\n",
       "      <td>...</td>\n",
       "      <td>...</td>\n",
       "    </tr>\n",
       "    <tr>\n",
       "      <th>1304</th>\n",
       "      <td>Zabour, Miss. Hileni</td>\n",
       "      <td>no</td>\n",
       "      <td>female</td>\n",
       "      <td>14.5000</td>\n",
       "      <td>3rd</td>\n",
       "    </tr>\n",
       "    <tr>\n",
       "      <th>1305</th>\n",
       "      <td>Zabour, Miss. Thamine</td>\n",
       "      <td>no</td>\n",
       "      <td>female</td>\n",
       "      <td>NaN</td>\n",
       "      <td>3rd</td>\n",
       "    </tr>\n",
       "    <tr>\n",
       "      <th>1306</th>\n",
       "      <td>Zakarian, Mr. Mapriededer</td>\n",
       "      <td>no</td>\n",
       "      <td>male</td>\n",
       "      <td>26.5000</td>\n",
       "      <td>3rd</td>\n",
       "    </tr>\n",
       "    <tr>\n",
       "      <th>1307</th>\n",
       "      <td>Zakarian, Mr. Ortin</td>\n",
       "      <td>no</td>\n",
       "      <td>male</td>\n",
       "      <td>27.0000</td>\n",
       "      <td>3rd</td>\n",
       "    </tr>\n",
       "    <tr>\n",
       "      <th>1308</th>\n",
       "      <td>Zimmerman, Mr. Leo</td>\n",
       "      <td>no</td>\n",
       "      <td>male</td>\n",
       "      <td>29.0000</td>\n",
       "      <td>3rd</td>\n",
       "    </tr>\n",
       "  </tbody>\n",
       "</table>\n",
       "<p>1309 rows × 5 columns</p>\n",
       "</div>"
      ],
      "text/plain": [
       "                           Unnamed: 0 survived     sex      age passengerClass\n",
       "0       Allen, Miss. Elisabeth Walton      yes  female  29.0000            1st\n",
       "1      Allison, Master. Hudson Trevor      yes    male   0.9167            1st\n",
       "2        Allison, Miss. Helen Loraine       no  female   2.0000            1st\n",
       "3     Allison, Mr. Hudson Joshua Crei       no    male  30.0000            1st\n",
       "4     Allison, Mrs. Hudson J C (Bessi       no  female  25.0000            1st\n",
       "...                               ...      ...     ...      ...            ...\n",
       "1304             Zabour, Miss. Hileni       no  female  14.5000            3rd\n",
       "1305            Zabour, Miss. Thamine       no  female      NaN            3rd\n",
       "1306        Zakarian, Mr. Mapriededer       no    male  26.5000            3rd\n",
       "1307              Zakarian, Mr. Ortin       no    male  27.0000            3rd\n",
       "1308               Zimmerman, Mr. Leo       no    male  29.0000            3rd\n",
       "\n",
       "[1309 rows x 5 columns]"
      ]
     },
     "execution_count": 29,
     "metadata": {},
     "output_type": "execute_result"
    }
   ],
   "source": [
    "DataSet"
   ]
  },
  {
   "cell_type": "code",
   "execution_count": 33,
   "id": "9c67f573",
   "metadata": {},
   "outputs": [
    {
     "data": {
      "text/html": [
       "<div>\n",
       "<style scoped>\n",
       "    .dataframe tbody tr th:only-of-type {\n",
       "        vertical-align: middle;\n",
       "    }\n",
       "\n",
       "    .dataframe tbody tr th {\n",
       "        vertical-align: top;\n",
       "    }\n",
       "\n",
       "    .dataframe thead th {\n",
       "        text-align: right;\n",
       "    }\n",
       "</style>\n",
       "<table border=\"1\" class=\"dataframe\">\n",
       "  <thead>\n",
       "    <tr style=\"text-align: right;\">\n",
       "      <th></th>\n",
       "      <th>Name</th>\n",
       "      <th>Survived</th>\n",
       "      <th>Gender</th>\n",
       "      <th>Age</th>\n",
       "      <th>Class</th>\n",
       "    </tr>\n",
       "  </thead>\n",
       "  <tbody>\n",
       "    <tr>\n",
       "      <th>0</th>\n",
       "      <td>Allen, Miss. Elisabeth Walton</td>\n",
       "      <td>yes</td>\n",
       "      <td>female</td>\n",
       "      <td>29.0000</td>\n",
       "      <td>1st</td>\n",
       "    </tr>\n",
       "    <tr>\n",
       "      <th>1</th>\n",
       "      <td>Allison, Master. Hudson Trevor</td>\n",
       "      <td>yes</td>\n",
       "      <td>male</td>\n",
       "      <td>0.9167</td>\n",
       "      <td>1st</td>\n",
       "    </tr>\n",
       "    <tr>\n",
       "      <th>2</th>\n",
       "      <td>Allison, Miss. Helen Loraine</td>\n",
       "      <td>no</td>\n",
       "      <td>female</td>\n",
       "      <td>2.0000</td>\n",
       "      <td>1st</td>\n",
       "    </tr>\n",
       "    <tr>\n",
       "      <th>3</th>\n",
       "      <td>Allison, Mr. Hudson Joshua Crei</td>\n",
       "      <td>no</td>\n",
       "      <td>male</td>\n",
       "      <td>30.0000</td>\n",
       "      <td>1st</td>\n",
       "    </tr>\n",
       "    <tr>\n",
       "      <th>4</th>\n",
       "      <td>Allison, Mrs. Hudson J C (Bessi</td>\n",
       "      <td>no</td>\n",
       "      <td>female</td>\n",
       "      <td>25.0000</td>\n",
       "      <td>1st</td>\n",
       "    </tr>\n",
       "    <tr>\n",
       "      <th>...</th>\n",
       "      <td>...</td>\n",
       "      <td>...</td>\n",
       "      <td>...</td>\n",
       "      <td>...</td>\n",
       "      <td>...</td>\n",
       "    </tr>\n",
       "    <tr>\n",
       "      <th>1304</th>\n",
       "      <td>Zabour, Miss. Hileni</td>\n",
       "      <td>no</td>\n",
       "      <td>female</td>\n",
       "      <td>14.5000</td>\n",
       "      <td>3rd</td>\n",
       "    </tr>\n",
       "    <tr>\n",
       "      <th>1305</th>\n",
       "      <td>Zabour, Miss. Thamine</td>\n",
       "      <td>no</td>\n",
       "      <td>female</td>\n",
       "      <td>NaN</td>\n",
       "      <td>3rd</td>\n",
       "    </tr>\n",
       "    <tr>\n",
       "      <th>1306</th>\n",
       "      <td>Zakarian, Mr. Mapriededer</td>\n",
       "      <td>no</td>\n",
       "      <td>male</td>\n",
       "      <td>26.5000</td>\n",
       "      <td>3rd</td>\n",
       "    </tr>\n",
       "    <tr>\n",
       "      <th>1307</th>\n",
       "      <td>Zakarian, Mr. Ortin</td>\n",
       "      <td>no</td>\n",
       "      <td>male</td>\n",
       "      <td>27.0000</td>\n",
       "      <td>3rd</td>\n",
       "    </tr>\n",
       "    <tr>\n",
       "      <th>1308</th>\n",
       "      <td>Zimmerman, Mr. Leo</td>\n",
       "      <td>no</td>\n",
       "      <td>male</td>\n",
       "      <td>29.0000</td>\n",
       "      <td>3rd</td>\n",
       "    </tr>\n",
       "  </tbody>\n",
       "</table>\n",
       "<p>1309 rows × 5 columns</p>\n",
       "</div>"
      ],
      "text/plain": [
       "                                 Name Survived  Gender      Age Class\n",
       "0       Allen, Miss. Elisabeth Walton      yes  female  29.0000   1st\n",
       "1      Allison, Master. Hudson Trevor      yes    male   0.9167   1st\n",
       "2        Allison, Miss. Helen Loraine       no  female   2.0000   1st\n",
       "3     Allison, Mr. Hudson Joshua Crei       no    male  30.0000   1st\n",
       "4     Allison, Mrs. Hudson J C (Bessi       no  female  25.0000   1st\n",
       "...                               ...      ...     ...      ...   ...\n",
       "1304             Zabour, Miss. Hileni       no  female  14.5000   3rd\n",
       "1305            Zabour, Miss. Thamine       no  female      NaN   3rd\n",
       "1306        Zakarian, Mr. Mapriededer       no    male  26.5000   3rd\n",
       "1307              Zakarian, Mr. Ortin       no    male  27.0000   3rd\n",
       "1308               Zimmerman, Mr. Leo       no    male  29.0000   3rd\n",
       "\n",
       "[1309 rows x 5 columns]"
      ]
     },
     "execution_count": 33,
     "metadata": {},
     "output_type": "execute_result"
    }
   ],
   "source": [
    "#renaming columns of dataset\n",
    "DataSet1=DataSet.rename(columns={'Unnamed: 0':'Name',\n",
    "                         'survived':'Survived', \n",
    "                         'sex':'Gender', \n",
    "                         'age':'Age', \n",
    "                         'passengerClass':'Class'})\n",
    "DataSet1"
   ]
  },
  {
   "cell_type": "code",
   "execution_count": 125,
   "id": "7bcaf687",
   "metadata": {},
   "outputs": [
    {
     "data": {
      "text/html": [
       "<div>\n",
       "<style scoped>\n",
       "    .dataframe tbody tr th:only-of-type {\n",
       "        vertical-align: middle;\n",
       "    }\n",
       "\n",
       "    .dataframe tbody tr th {\n",
       "        vertical-align: top;\n",
       "    }\n",
       "\n",
       "    .dataframe thead th {\n",
       "        text-align: right;\n",
       "    }\n",
       "</style>\n",
       "<table border=\"1\" class=\"dataframe\">\n",
       "  <thead>\n",
       "    <tr style=\"text-align: right;\">\n",
       "      <th></th>\n",
       "      <th>Name</th>\n",
       "      <th>Survived</th>\n",
       "      <th>Gender</th>\n",
       "      <th>Age</th>\n",
       "      <th>Class</th>\n",
       "    </tr>\n",
       "  </thead>\n",
       "  <tbody>\n",
       "    <tr>\n",
       "      <th>0</th>\n",
       "      <td>Allen, Miss. Elisabeth Walton</td>\n",
       "      <td>yes</td>\n",
       "      <td>female</td>\n",
       "      <td>29.0000</td>\n",
       "      <td>1st</td>\n",
       "    </tr>\n",
       "    <tr>\n",
       "      <th>1</th>\n",
       "      <td>Allison, Master. Hudson Trevor</td>\n",
       "      <td>yes</td>\n",
       "      <td>male</td>\n",
       "      <td>0.9167</td>\n",
       "      <td>1st</td>\n",
       "    </tr>\n",
       "    <tr>\n",
       "      <th>2</th>\n",
       "      <td>Allison, Miss. Helen Loraine</td>\n",
       "      <td>no</td>\n",
       "      <td>female</td>\n",
       "      <td>2.0000</td>\n",
       "      <td>1st</td>\n",
       "    </tr>\n",
       "    <tr>\n",
       "      <th>3</th>\n",
       "      <td>Allison, Mr. Hudson Joshua Crei</td>\n",
       "      <td>no</td>\n",
       "      <td>male</td>\n",
       "      <td>30.0000</td>\n",
       "      <td>1st</td>\n",
       "    </tr>\n",
       "    <tr>\n",
       "      <th>4</th>\n",
       "      <td>Allison, Mrs. Hudson J C (Bessi</td>\n",
       "      <td>no</td>\n",
       "      <td>female</td>\n",
       "      <td>25.0000</td>\n",
       "      <td>1st</td>\n",
       "    </tr>\n",
       "    <tr>\n",
       "      <th>...</th>\n",
       "      <td>...</td>\n",
       "      <td>...</td>\n",
       "      <td>...</td>\n",
       "      <td>...</td>\n",
       "      <td>...</td>\n",
       "    </tr>\n",
       "    <tr>\n",
       "      <th>1304</th>\n",
       "      <td>Zabour, Miss. Hileni</td>\n",
       "      <td>no</td>\n",
       "      <td>female</td>\n",
       "      <td>14.5000</td>\n",
       "      <td>3rd</td>\n",
       "    </tr>\n",
       "    <tr>\n",
       "      <th>1305</th>\n",
       "      <td>Zabour, Miss. Thamine</td>\n",
       "      <td>no</td>\n",
       "      <td>female</td>\n",
       "      <td>NaN</td>\n",
       "      <td>3rd</td>\n",
       "    </tr>\n",
       "    <tr>\n",
       "      <th>1306</th>\n",
       "      <td>Zakarian, Mr. Mapriededer</td>\n",
       "      <td>no</td>\n",
       "      <td>male</td>\n",
       "      <td>26.5000</td>\n",
       "      <td>3rd</td>\n",
       "    </tr>\n",
       "    <tr>\n",
       "      <th>1307</th>\n",
       "      <td>Zakarian, Mr. Ortin</td>\n",
       "      <td>no</td>\n",
       "      <td>male</td>\n",
       "      <td>27.0000</td>\n",
       "      <td>3rd</td>\n",
       "    </tr>\n",
       "    <tr>\n",
       "      <th>1308</th>\n",
       "      <td>Zimmerman, Mr. Leo</td>\n",
       "      <td>no</td>\n",
       "      <td>male</td>\n",
       "      <td>29.0000</td>\n",
       "      <td>3rd</td>\n",
       "    </tr>\n",
       "  </tbody>\n",
       "</table>\n",
       "<p>1309 rows × 5 columns</p>\n",
       "</div>"
      ],
      "text/plain": [
       "                                 Name Survived  Gender      Age Class\n",
       "0       Allen, Miss. Elisabeth Walton      yes  female  29.0000   1st\n",
       "1      Allison, Master. Hudson Trevor      yes    male   0.9167   1st\n",
       "2        Allison, Miss. Helen Loraine       no  female   2.0000   1st\n",
       "3     Allison, Mr. Hudson Joshua Crei       no    male  30.0000   1st\n",
       "4     Allison, Mrs. Hudson J C (Bessi       no  female  25.0000   1st\n",
       "...                               ...      ...     ...      ...   ...\n",
       "1304             Zabour, Miss. Hileni       no  female  14.5000   3rd\n",
       "1305            Zabour, Miss. Thamine       no  female      NaN   3rd\n",
       "1306        Zakarian, Mr. Mapriededer       no    male  26.5000   3rd\n",
       "1307              Zakarian, Mr. Ortin       no    male  27.0000   3rd\n",
       "1308               Zimmerman, Mr. Leo       no    male  29.0000   3rd\n",
       "\n",
       "[1309 rows x 5 columns]"
      ]
     },
     "execution_count": 125,
     "metadata": {},
     "output_type": "execute_result"
    }
   ],
   "source": [
    "#Another way of giving column names\n",
    "DataSet.columns=['Name','Survived','Gender','Age','Class']\n",
    "DataSet"
   ]
  },
  {
   "cell_type": "code",
   "execution_count": 126,
   "id": "2c58723d",
   "metadata": {},
   "outputs": [
    {
     "data": {
      "text/plain": [
       "<bound method DataFrame.count of                                  Name Survived  Gender      Age Class\n",
       "0       Allen, Miss. Elisabeth Walton      yes  female  29.0000   1st\n",
       "1      Allison, Master. Hudson Trevor      yes    male   0.9167   1st\n",
       "2        Allison, Miss. Helen Loraine       no  female   2.0000   1st\n",
       "3     Allison, Mr. Hudson Joshua Crei       no    male  30.0000   1st\n",
       "4     Allison, Mrs. Hudson J C (Bessi       no  female  25.0000   1st\n",
       "...                               ...      ...     ...      ...   ...\n",
       "1304             Zabour, Miss. Hileni       no  female  14.5000   3rd\n",
       "1305            Zabour, Miss. Thamine       no  female      NaN   3rd\n",
       "1306        Zakarian, Mr. Mapriededer       no    male  26.5000   3rd\n",
       "1307              Zakarian, Mr. Ortin       no    male  27.0000   3rd\n",
       "1308               Zimmerman, Mr. Leo       no    male  29.0000   3rd\n",
       "\n",
       "[1309 rows x 5 columns]>"
      ]
     },
     "execution_count": 126,
     "metadata": {},
     "output_type": "execute_result"
    }
   ],
   "source": [
    "#counting number of rows\n",
    "TotalCount=DataSet1.count\n",
    "TotalCount"
   ]
  },
  {
   "cell_type": "code",
   "execution_count": 127,
   "id": "9f35069d",
   "metadata": {},
   "outputs": [
    {
     "data": {
      "text/plain": [
       "1309"
      ]
     },
     "execution_count": 127,
     "metadata": {},
     "output_type": "execute_result"
    }
   ],
   "source": [
    "#Counting using len\n",
    "len(DataSet)"
   ]
  },
  {
   "cell_type": "code",
   "execution_count": 40,
   "id": "7aba77ef",
   "metadata": {},
   "outputs": [
    {
     "data": {
      "text/plain": [
       "<bound method Series.count of 0         Allen, Miss. Elisabeth Walton\n",
       "1        Allison, Master. Hudson Trevor\n",
       "2          Allison, Miss. Helen Loraine\n",
       "3       Allison, Mr. Hudson Joshua Crei\n",
       "4       Allison, Mrs. Hudson J C (Bessi\n",
       "                     ...               \n",
       "1304               Zabour, Miss. Hileni\n",
       "1305              Zabour, Miss. Thamine\n",
       "1306          Zakarian, Mr. Mapriededer\n",
       "1307                Zakarian, Mr. Ortin\n",
       "1308                 Zimmerman, Mr. Leo\n",
       "Name: Name, Length: 1309, dtype: object>"
      ]
     },
     "execution_count": 40,
     "metadata": {},
     "output_type": "execute_result"
    }
   ],
   "source": [
    "DataSet1['Name'].count"
   ]
  },
  {
   "cell_type": "code",
   "execution_count": 43,
   "id": "117100c7",
   "metadata": {},
   "outputs": [
    {
     "data": {
      "text/html": [
       "<div>\n",
       "<style scoped>\n",
       "    .dataframe tbody tr th:only-of-type {\n",
       "        vertical-align: middle;\n",
       "    }\n",
       "\n",
       "    .dataframe tbody tr th {\n",
       "        vertical-align: top;\n",
       "    }\n",
       "\n",
       "    .dataframe thead th {\n",
       "        text-align: right;\n",
       "    }\n",
       "</style>\n",
       "<table border=\"1\" class=\"dataframe\">\n",
       "  <thead>\n",
       "    <tr style=\"text-align: right;\">\n",
       "      <th></th>\n",
       "      <th>Name</th>\n",
       "      <th>Survived</th>\n",
       "      <th>Gender</th>\n",
       "      <th>Age</th>\n",
       "      <th>Class</th>\n",
       "    </tr>\n",
       "  </thead>\n",
       "  <tbody>\n",
       "    <tr>\n",
       "      <th>0</th>\n",
       "      <td>Allen, Miss. Elisabeth Walton</td>\n",
       "      <td>yes</td>\n",
       "      <td>female</td>\n",
       "      <td>29.0000</td>\n",
       "      <td>1st</td>\n",
       "    </tr>\n",
       "    <tr>\n",
       "      <th>1</th>\n",
       "      <td>Allison, Master. Hudson Trevor</td>\n",
       "      <td>yes</td>\n",
       "      <td>male</td>\n",
       "      <td>0.9167</td>\n",
       "      <td>1st</td>\n",
       "    </tr>\n",
       "    <tr>\n",
       "      <th>2</th>\n",
       "      <td>Allison, Miss. Helen Loraine</td>\n",
       "      <td>no</td>\n",
       "      <td>female</td>\n",
       "      <td>2.0000</td>\n",
       "      <td>1st</td>\n",
       "    </tr>\n",
       "    <tr>\n",
       "      <th>3</th>\n",
       "      <td>Allison, Mr. Hudson Joshua Crei</td>\n",
       "      <td>no</td>\n",
       "      <td>male</td>\n",
       "      <td>30.0000</td>\n",
       "      <td>1st</td>\n",
       "    </tr>\n",
       "    <tr>\n",
       "      <th>4</th>\n",
       "      <td>Allison, Mrs. Hudson J C (Bessi</td>\n",
       "      <td>no</td>\n",
       "      <td>female</td>\n",
       "      <td>25.0000</td>\n",
       "      <td>1st</td>\n",
       "    </tr>\n",
       "    <tr>\n",
       "      <th>5</th>\n",
       "      <td>Anderson, Mr. Harry</td>\n",
       "      <td>yes</td>\n",
       "      <td>male</td>\n",
       "      <td>48.0000</td>\n",
       "      <td>1st</td>\n",
       "    </tr>\n",
       "    <tr>\n",
       "      <th>6</th>\n",
       "      <td>Andrews, Miss. Kornelia Theodos</td>\n",
       "      <td>yes</td>\n",
       "      <td>female</td>\n",
       "      <td>63.0000</td>\n",
       "      <td>1st</td>\n",
       "    </tr>\n",
       "    <tr>\n",
       "      <th>7</th>\n",
       "      <td>Andrews, Mr. Thomas Jr</td>\n",
       "      <td>no</td>\n",
       "      <td>male</td>\n",
       "      <td>39.0000</td>\n",
       "      <td>1st</td>\n",
       "    </tr>\n",
       "    <tr>\n",
       "      <th>8</th>\n",
       "      <td>Appleton, Mrs. Edward Dale (Cha</td>\n",
       "      <td>yes</td>\n",
       "      <td>female</td>\n",
       "      <td>53.0000</td>\n",
       "      <td>1st</td>\n",
       "    </tr>\n",
       "    <tr>\n",
       "      <th>9</th>\n",
       "      <td>Artagaveytia, Mr. Ramon</td>\n",
       "      <td>no</td>\n",
       "      <td>male</td>\n",
       "      <td>71.0000</td>\n",
       "      <td>1st</td>\n",
       "    </tr>\n",
       "    <tr>\n",
       "      <th>10</th>\n",
       "      <td>Astor, Col. John Jacob</td>\n",
       "      <td>no</td>\n",
       "      <td>male</td>\n",
       "      <td>47.0000</td>\n",
       "      <td>1st</td>\n",
       "    </tr>\n",
       "    <tr>\n",
       "      <th>11</th>\n",
       "      <td>Astor, Mrs. John Jacob (Madelei</td>\n",
       "      <td>yes</td>\n",
       "      <td>female</td>\n",
       "      <td>18.0000</td>\n",
       "      <td>1st</td>\n",
       "    </tr>\n",
       "    <tr>\n",
       "      <th>12</th>\n",
       "      <td>Aubart, Mme. Leontine Pauline</td>\n",
       "      <td>yes</td>\n",
       "      <td>female</td>\n",
       "      <td>24.0000</td>\n",
       "      <td>1st</td>\n",
       "    </tr>\n",
       "    <tr>\n",
       "      <th>13</th>\n",
       "      <td>Barber, Miss. Ellen Nellie</td>\n",
       "      <td>yes</td>\n",
       "      <td>female</td>\n",
       "      <td>26.0000</td>\n",
       "      <td>1st</td>\n",
       "    </tr>\n",
       "    <tr>\n",
       "      <th>14</th>\n",
       "      <td>Barkworth, Mr. Algernon Henry W</td>\n",
       "      <td>yes</td>\n",
       "      <td>male</td>\n",
       "      <td>80.0000</td>\n",
       "      <td>1st</td>\n",
       "    </tr>\n",
       "  </tbody>\n",
       "</table>\n",
       "</div>"
      ],
      "text/plain": [
       "                               Name Survived  Gender      Age Class\n",
       "0     Allen, Miss. Elisabeth Walton      yes  female  29.0000   1st\n",
       "1    Allison, Master. Hudson Trevor      yes    male   0.9167   1st\n",
       "2      Allison, Miss. Helen Loraine       no  female   2.0000   1st\n",
       "3   Allison, Mr. Hudson Joshua Crei       no    male  30.0000   1st\n",
       "4   Allison, Mrs. Hudson J C (Bessi       no  female  25.0000   1st\n",
       "5               Anderson, Mr. Harry      yes    male  48.0000   1st\n",
       "6   Andrews, Miss. Kornelia Theodos      yes  female  63.0000   1st\n",
       "7            Andrews, Mr. Thomas Jr       no    male  39.0000   1st\n",
       "8   Appleton, Mrs. Edward Dale (Cha      yes  female  53.0000   1st\n",
       "9           Artagaveytia, Mr. Ramon       no    male  71.0000   1st\n",
       "10           Astor, Col. John Jacob       no    male  47.0000   1st\n",
       "11  Astor, Mrs. John Jacob (Madelei      yes  female  18.0000   1st\n",
       "12    Aubart, Mme. Leontine Pauline      yes  female  24.0000   1st\n",
       "13       Barber, Miss. Ellen Nellie      yes  female  26.0000   1st\n",
       "14  Barkworth, Mr. Algernon Henry W      yes    male  80.0000   1st"
      ]
     },
     "execution_count": 43,
     "metadata": {},
     "output_type": "execute_result"
    }
   ],
   "source": [
    "#Finding top 15 of dataset\n",
    "DataSet1.head(15)"
   ]
  },
  {
   "cell_type": "code",
   "execution_count": 45,
   "id": "98af26b6",
   "metadata": {},
   "outputs": [
    {
     "data": {
      "text/html": [
       "<div>\n",
       "<style scoped>\n",
       "    .dataframe tbody tr th:only-of-type {\n",
       "        vertical-align: middle;\n",
       "    }\n",
       "\n",
       "    .dataframe tbody tr th {\n",
       "        vertical-align: top;\n",
       "    }\n",
       "\n",
       "    .dataframe thead th {\n",
       "        text-align: right;\n",
       "    }\n",
       "</style>\n",
       "<table border=\"1\" class=\"dataframe\">\n",
       "  <thead>\n",
       "    <tr style=\"text-align: right;\">\n",
       "      <th></th>\n",
       "      <th>Name</th>\n",
       "      <th>Survived</th>\n",
       "      <th>Gender</th>\n",
       "      <th>Age</th>\n",
       "      <th>Class</th>\n",
       "    </tr>\n",
       "  </thead>\n",
       "  <tbody>\n",
       "    <tr>\n",
       "      <th>1289</th>\n",
       "      <td>Wiklund, Mr. Karl Johan</td>\n",
       "      <td>no</td>\n",
       "      <td>male</td>\n",
       "      <td>21.0</td>\n",
       "      <td>3rd</td>\n",
       "    </tr>\n",
       "    <tr>\n",
       "      <th>1290</th>\n",
       "      <td>Wilkes, Mrs. James (Ellen Needs</td>\n",
       "      <td>yes</td>\n",
       "      <td>female</td>\n",
       "      <td>47.0</td>\n",
       "      <td>3rd</td>\n",
       "    </tr>\n",
       "    <tr>\n",
       "      <th>1291</th>\n",
       "      <td>Willer, Mr. Aaron (Abi Weller</td>\n",
       "      <td>no</td>\n",
       "      <td>male</td>\n",
       "      <td>NaN</td>\n",
       "      <td>3rd</td>\n",
       "    </tr>\n",
       "    <tr>\n",
       "      <th>1292</th>\n",
       "      <td>Willey, Mr. Edward</td>\n",
       "      <td>no</td>\n",
       "      <td>male</td>\n",
       "      <td>NaN</td>\n",
       "      <td>3rd</td>\n",
       "    </tr>\n",
       "    <tr>\n",
       "      <th>1293</th>\n",
       "      <td>Williams, Mr. Howard Hugh Harr</td>\n",
       "      <td>no</td>\n",
       "      <td>male</td>\n",
       "      <td>NaN</td>\n",
       "      <td>3rd</td>\n",
       "    </tr>\n",
       "    <tr>\n",
       "      <th>1294</th>\n",
       "      <td>Williams, Mr. Leslie</td>\n",
       "      <td>no</td>\n",
       "      <td>male</td>\n",
       "      <td>28.5</td>\n",
       "      <td>3rd</td>\n",
       "    </tr>\n",
       "    <tr>\n",
       "      <th>1295</th>\n",
       "      <td>Windelov, Mr. Einar</td>\n",
       "      <td>no</td>\n",
       "      <td>male</td>\n",
       "      <td>21.0</td>\n",
       "      <td>3rd</td>\n",
       "    </tr>\n",
       "    <tr>\n",
       "      <th>1296</th>\n",
       "      <td>Wirz, Mr. Albert</td>\n",
       "      <td>no</td>\n",
       "      <td>male</td>\n",
       "      <td>27.0</td>\n",
       "      <td>3rd</td>\n",
       "    </tr>\n",
       "    <tr>\n",
       "      <th>1297</th>\n",
       "      <td>Wiseman, Mr. Phillippe</td>\n",
       "      <td>no</td>\n",
       "      <td>male</td>\n",
       "      <td>NaN</td>\n",
       "      <td>3rd</td>\n",
       "    </tr>\n",
       "    <tr>\n",
       "      <th>1298</th>\n",
       "      <td>Wittevrongel, Mr. Camille</td>\n",
       "      <td>no</td>\n",
       "      <td>male</td>\n",
       "      <td>36.0</td>\n",
       "      <td>3rd</td>\n",
       "    </tr>\n",
       "    <tr>\n",
       "      <th>1299</th>\n",
       "      <td>Yasbeck, Mr. Antoni</td>\n",
       "      <td>no</td>\n",
       "      <td>male</td>\n",
       "      <td>27.0</td>\n",
       "      <td>3rd</td>\n",
       "    </tr>\n",
       "    <tr>\n",
       "      <th>1300</th>\n",
       "      <td>Yasbeck, Mrs. Antoni (Selini Al</td>\n",
       "      <td>yes</td>\n",
       "      <td>female</td>\n",
       "      <td>15.0</td>\n",
       "      <td>3rd</td>\n",
       "    </tr>\n",
       "    <tr>\n",
       "      <th>1301</th>\n",
       "      <td>Youseff, Mr. Gerious</td>\n",
       "      <td>no</td>\n",
       "      <td>male</td>\n",
       "      <td>45.5</td>\n",
       "      <td>3rd</td>\n",
       "    </tr>\n",
       "    <tr>\n",
       "      <th>1302</th>\n",
       "      <td>Yousif, Mr. Wazli</td>\n",
       "      <td>no</td>\n",
       "      <td>male</td>\n",
       "      <td>NaN</td>\n",
       "      <td>3rd</td>\n",
       "    </tr>\n",
       "    <tr>\n",
       "      <th>1303</th>\n",
       "      <td>Yousseff, Mr. Gerious</td>\n",
       "      <td>no</td>\n",
       "      <td>male</td>\n",
       "      <td>NaN</td>\n",
       "      <td>3rd</td>\n",
       "    </tr>\n",
       "    <tr>\n",
       "      <th>1304</th>\n",
       "      <td>Zabour, Miss. Hileni</td>\n",
       "      <td>no</td>\n",
       "      <td>female</td>\n",
       "      <td>14.5</td>\n",
       "      <td>3rd</td>\n",
       "    </tr>\n",
       "    <tr>\n",
       "      <th>1305</th>\n",
       "      <td>Zabour, Miss. Thamine</td>\n",
       "      <td>no</td>\n",
       "      <td>female</td>\n",
       "      <td>NaN</td>\n",
       "      <td>3rd</td>\n",
       "    </tr>\n",
       "    <tr>\n",
       "      <th>1306</th>\n",
       "      <td>Zakarian, Mr. Mapriededer</td>\n",
       "      <td>no</td>\n",
       "      <td>male</td>\n",
       "      <td>26.5</td>\n",
       "      <td>3rd</td>\n",
       "    </tr>\n",
       "    <tr>\n",
       "      <th>1307</th>\n",
       "      <td>Zakarian, Mr. Ortin</td>\n",
       "      <td>no</td>\n",
       "      <td>male</td>\n",
       "      <td>27.0</td>\n",
       "      <td>3rd</td>\n",
       "    </tr>\n",
       "    <tr>\n",
       "      <th>1308</th>\n",
       "      <td>Zimmerman, Mr. Leo</td>\n",
       "      <td>no</td>\n",
       "      <td>male</td>\n",
       "      <td>29.0</td>\n",
       "      <td>3rd</td>\n",
       "    </tr>\n",
       "  </tbody>\n",
       "</table>\n",
       "</div>"
      ],
      "text/plain": [
       "                                 Name Survived  Gender   Age Class\n",
       "1289          Wiklund, Mr. Karl Johan       no    male  21.0   3rd\n",
       "1290  Wilkes, Mrs. James (Ellen Needs      yes  female  47.0   3rd\n",
       "1291    Willer, Mr. Aaron (Abi Weller       no    male   NaN   3rd\n",
       "1292               Willey, Mr. Edward       no    male   NaN   3rd\n",
       "1293   Williams, Mr. Howard Hugh Harr       no    male   NaN   3rd\n",
       "1294             Williams, Mr. Leslie       no    male  28.5   3rd\n",
       "1295              Windelov, Mr. Einar       no    male  21.0   3rd\n",
       "1296                 Wirz, Mr. Albert       no    male  27.0   3rd\n",
       "1297           Wiseman, Mr. Phillippe       no    male   NaN   3rd\n",
       "1298        Wittevrongel, Mr. Camille       no    male  36.0   3rd\n",
       "1299              Yasbeck, Mr. Antoni       no    male  27.0   3rd\n",
       "1300  Yasbeck, Mrs. Antoni (Selini Al      yes  female  15.0   3rd\n",
       "1301             Youseff, Mr. Gerious       no    male  45.5   3rd\n",
       "1302                Yousif, Mr. Wazli       no    male   NaN   3rd\n",
       "1303            Yousseff, Mr. Gerious       no    male   NaN   3rd\n",
       "1304             Zabour, Miss. Hileni       no  female  14.5   3rd\n",
       "1305            Zabour, Miss. Thamine       no  female   NaN   3rd\n",
       "1306        Zakarian, Mr. Mapriededer       no    male  26.5   3rd\n",
       "1307              Zakarian, Mr. Ortin       no    male  27.0   3rd\n",
       "1308               Zimmerman, Mr. Leo       no    male  29.0   3rd"
      ]
     },
     "execution_count": 45,
     "metadata": {},
     "output_type": "execute_result"
    }
   ],
   "source": [
    "#Finding last 20 records\n",
    "DataSet1.tail(20)"
   ]
  },
  {
   "cell_type": "code",
   "execution_count": 47,
   "id": "9b93c371",
   "metadata": {},
   "outputs": [
    {
     "data": {
      "text/plain": [
       "29.881134512434034"
      ]
     },
     "execution_count": 47,
     "metadata": {},
     "output_type": "execute_result"
    }
   ],
   "source": [
    "#Average age of passengers\n",
    "DataSet1['Age'].agg(np.mean)"
   ]
  },
  {
   "cell_type": "code",
   "execution_count": 59,
   "id": "5424b410",
   "metadata": {},
   "outputs": [
    {
     "data": {
      "text/html": [
       "<div>\n",
       "<style scoped>\n",
       "    .dataframe tbody tr th:only-of-type {\n",
       "        vertical-align: middle;\n",
       "    }\n",
       "\n",
       "    .dataframe tbody tr th {\n",
       "        vertical-align: top;\n",
       "    }\n",
       "\n",
       "    .dataframe thead th {\n",
       "        text-align: right;\n",
       "    }\n",
       "</style>\n",
       "<table border=\"1\" class=\"dataframe\">\n",
       "  <thead>\n",
       "    <tr style=\"text-align: right;\">\n",
       "      <th></th>\n",
       "      <th>Name</th>\n",
       "      <th>Age</th>\n",
       "    </tr>\n",
       "  </thead>\n",
       "  <tbody>\n",
       "    <tr>\n",
       "      <th>14</th>\n",
       "      <td>Barkworth, Mr. Algernon Henry W</td>\n",
       "      <td>80.0</td>\n",
       "    </tr>\n",
       "  </tbody>\n",
       "</table>\n",
       "</div>"
      ],
      "text/plain": [
       "                               Name   Age\n",
       "14  Barkworth, Mr. Algernon Henry W  80.0"
      ]
     },
     "execution_count": 59,
     "metadata": {},
     "output_type": "execute_result"
    }
   ],
   "source": [
    "#find the oldest passenger’s age and name\n",
    "MaxAge=DataSet1['Age'].agg(np.max)\n",
    "MaxAge\n",
    "DataSetN= DataSet1[DataSet1['Age']==MaxAge]\n",
    "DataSetN.loc[:,['Name','Age']]"
   ]
  },
  {
   "cell_type": "code",
   "execution_count": 130,
   "id": "110f8d82",
   "metadata": {},
   "outputs": [
    {
     "data": {
      "text/plain": [
       "{'1st': [0, 1, 2, 3, 4, 5, 6, 7, 8, 9, 10, 11, 12, 13, 14, 15, 16, 17, 18, 19, 20, 21, 22, 23, 24, 25, 26, 27, 28, 29, 30, 31, 32, 33, 34, 35, 36, 37, 38, 39, 40, 41, 42, 43, 44, 45, 46, 47, 48, 49, 50, 51, 52, 53, 54, 55, 56, 57, 58, 59, 60, 61, 62, 63, 64, 65, 66, 67, 68, 69, 70, 71, 72, 73, 74, 75, 76, 77, 78, 79, 80, 81, 82, 83, 84, 85, 86, 87, 88, 89, 90, 91, 92, 93, 94, 95, 96, 97, 98, 99, ...], '2nd': [323, 324, 325, 326, 327, 328, 329, 330, 331, 332, 333, 334, 335, 336, 337, 338, 339, 340, 341, 342, 343, 344, 345, 346, 347, 348, 349, 350, 351, 352, 353, 354, 355, 356, 357, 358, 359, 360, 361, 362, 363, 364, 365, 366, 367, 368, 369, 370, 371, 372, 373, 374, 375, 376, 377, 378, 379, 380, 381, 382, 383, 384, 385, 386, 387, 388, 389, 390, 391, 392, 393, 394, 395, 396, 397, 398, 399, 400, 401, 402, 403, 404, 405, 406, 407, 408, 409, 410, 411, 412, 413, 414, 415, 416, 417, 418, 419, 420, 421, 422, ...], '3rd': [600, 601, 602, 603, 604, 605, 606, 607, 608, 609, 610, 611, 612, 613, 614, 615, 616, 617, 618, 619, 620, 621, 622, 623, 624, 625, 626, 627, 628, 629, 630, 631, 632, 633, 634, 635, 636, 637, 638, 639, 640, 641, 642, 643, 644, 645, 646, 647, 648, 649, 650, 651, 652, 653, 654, 655, 656, 657, 658, 659, 660, 661, 662, 663, 664, 665, 666, 667, 668, 669, 670, 671, 672, 673, 674, 675, 676, 677, 678, 679, 680, 681, 682, 683, 684, 685, 686, 687, 688, 689, 690, 691, 692, 693, 694, 695, 696, 697, 698, 699, ...]}"
      ]
     },
     "execution_count": 130,
     "metadata": {},
     "output_type": "execute_result"
    }
   ],
   "source": [
    "#Group by class\n",
    "Group_Class=DataSet1.groupby('Class')\n",
    "Group_Class.groups"
   ]
  },
  {
   "cell_type": "code",
   "execution_count": 61,
   "id": "c0112a1d",
   "metadata": {},
   "outputs": [
    {
     "data": {
      "text/plain": [
       "<pandas.core.groupby.generic.DataFrameGroupBy object at 0x120126a00>"
      ]
     },
     "execution_count": 61,
     "metadata": {},
     "output_type": "execute_result"
    }
   ],
   "source": [
    "Group_Class"
   ]
  },
  {
   "cell_type": "code",
   "execution_count": 64,
   "id": "773ba84f",
   "metadata": {},
   "outputs": [
    {
     "name": "stdout",
     "output_type": "stream",
     "text": [
      "1st\n",
      "                                Name Survived  Gender      Age Class\n",
      "0      Allen, Miss. Elisabeth Walton      yes  female  29.0000   1st\n",
      "1     Allison, Master. Hudson Trevor      yes    male   0.9167   1st\n",
      "2       Allison, Miss. Helen Loraine       no  female   2.0000   1st\n",
      "3    Allison, Mr. Hudson Joshua Crei       no    male  30.0000   1st\n",
      "4    Allison, Mrs. Hudson J C (Bessi       no  female  25.0000   1st\n",
      "..                               ...      ...     ...      ...   ...\n",
      "318   Williams-Lambert, Mr. Fletcher       no    male      NaN   1st\n",
      "319        Wilson, Miss. Helen Alice      yes  female  31.0000   1st\n",
      "320                Woolner, Mr. Hugh      yes    male      NaN   1st\n",
      "321               Wright, Mr. George       no    male  62.0000   1st\n",
      "322         Young, Miss. Marie Grice      yes  female  36.0000   1st\n",
      "\n",
      "[323 rows x 5 columns]\n",
      "2nd\n",
      "                                Name Survived  Gender   Age Class\n",
      "323              Abelson, Mr. Samuel       no    male  30.0   2nd\n",
      "324  Abelson, Mrs. Samuel (Hannah Wi      yes  female  28.0   2nd\n",
      "325   Aldworth, Mr. Charles Augustus       no    male  30.0   2nd\n",
      "326       Andrew, Mr. Edgardo Samuel       no    male  18.0   2nd\n",
      "327         Andrew, Mr. Frank Thomas       no    male  25.0   2nd\n",
      "..                               ...      ...     ...   ...   ...\n",
      "595     Wheeler, Mr. Edwin Frederick       no    male   NaN   2nd\n",
      "596            Wilhelms, Mr. Charles      yes    male  31.0   2nd\n",
      "597     Williams, Mr. Charles Eugene      yes    male   NaN   2nd\n",
      "598             Wright, Miss. Marion      yes  female  26.0   2nd\n",
      "599   Yrois, Miss. Henriette (Mrs Ha       no  female  24.0   2nd\n",
      "\n",
      "[277 rows x 5 columns]\n",
      "3rd\n",
      "                                 Name Survived  Gender   Age Class\n",
      "600               Abbing, Mr. Anthony       no    male  42.0   3rd\n",
      "601     Abbott, Master. Eugene Joseph       no    male  13.0   3rd\n",
      "602       Abbott, Mr. Rossmore Edward       no    male  16.0   3rd\n",
      "603   Abbott, Mrs. Stanton (Rosa Hunt      yes  female  35.0   3rd\n",
      "604       Abelseth, Miss. Karen Marie      yes  female  16.0   3rd\n",
      "...                               ...      ...     ...   ...   ...\n",
      "1304             Zabour, Miss. Hileni       no  female  14.5   3rd\n",
      "1305            Zabour, Miss. Thamine       no  female   NaN   3rd\n",
      "1306        Zakarian, Mr. Mapriededer       no    male  26.5   3rd\n",
      "1307              Zakarian, Mr. Ortin       no    male  27.0   3rd\n",
      "1308               Zimmerman, Mr. Leo       no    male  29.0   3rd\n",
      "\n",
      "[709 rows x 5 columns]\n"
     ]
    }
   ],
   "source": [
    "for i,j in Group_Class:\n",
    "    print(i)\n",
    "    print(j)"
   ]
  },
  {
   "cell_type": "code",
   "execution_count": 66,
   "id": "0e67db37",
   "metadata": {},
   "outputs": [
    {
     "name": "stdout",
     "output_type": "stream",
     "text": [
      "no\n",
      "                                 Name Survived  Gender   Age Class\n",
      "2        Allison, Miss. Helen Loraine       no  female   2.0   1st\n",
      "3     Allison, Mr. Hudson Joshua Crei       no    male  30.0   1st\n",
      "4     Allison, Mrs. Hudson J C (Bessi       no  female  25.0   1st\n",
      "7              Andrews, Mr. Thomas Jr       no    male  39.0   1st\n",
      "9             Artagaveytia, Mr. Ramon       no    male  71.0   1st\n",
      "...                               ...      ...     ...   ...   ...\n",
      "1304             Zabour, Miss. Hileni       no  female  14.5   3rd\n",
      "1305            Zabour, Miss. Thamine       no  female   NaN   3rd\n",
      "1306        Zakarian, Mr. Mapriededer       no    male  26.5   3rd\n",
      "1307              Zakarian, Mr. Ortin       no    male  27.0   3rd\n",
      "1308               Zimmerman, Mr. Leo       no    male  29.0   3rd\n",
      "\n",
      "[809 rows x 5 columns]\n",
      "yes\n",
      "                                 Name Survived  Gender      Age Class\n",
      "0       Allen, Miss. Elisabeth Walton      yes  female  29.0000   1st\n",
      "1      Allison, Master. Hudson Trevor      yes    male   0.9167   1st\n",
      "5                 Anderson, Mr. Harry      yes    male  48.0000   1st\n",
      "6     Andrews, Miss. Kornelia Theodos      yes  female  63.0000   1st\n",
      "8     Appleton, Mrs. Edward Dale (Cha      yes  female  53.0000   1st\n",
      "...                               ...      ...     ...      ...   ...\n",
      "1261           Turkula, Mrs. (Hedwig)      yes  female  63.0000   3rd\n",
      "1277             Vartanian, Mr. David      yes    male  22.0000   3rd\n",
      "1286  Whabee, Mrs. George Joseph (Sha      yes  female  38.0000   3rd\n",
      "1290  Wilkes, Mrs. James (Ellen Needs      yes  female  47.0000   3rd\n",
      "1300  Yasbeck, Mrs. Antoni (Selini Al      yes  female  15.0000   3rd\n",
      "\n",
      "[500 rows x 5 columns]\n"
     ]
    }
   ],
   "source": [
    "#GRoup data by survived situation\n",
    "Group_S=DataSet1.groupby('Survived')\n",
    "for i, j in Group_S:\n",
    "    print(i)\n",
    "    print(j)"
   ]
  },
  {
   "cell_type": "code",
   "execution_count": 137,
   "id": "0acc49e3",
   "metadata": {},
   "outputs": [
    {
     "data": {
      "text/plain": [
       "500"
      ]
     },
     "execution_count": 137,
     "metadata": {},
     "output_type": "execute_result"
    }
   ],
   "source": [
    "#Total Survived Count\n",
    "len(Group_S.get_group('yes'))"
   ]
  },
  {
   "cell_type": "code",
   "execution_count": 135,
   "id": "aa15d148",
   "metadata": {},
   "outputs": [
    {
     "data": {
      "text/html": [
       "<div>\n",
       "<style scoped>\n",
       "    .dataframe tbody tr th:only-of-type {\n",
       "        vertical-align: middle;\n",
       "    }\n",
       "\n",
       "    .dataframe tbody tr th {\n",
       "        vertical-align: top;\n",
       "    }\n",
       "\n",
       "    .dataframe thead th {\n",
       "        text-align: right;\n",
       "    }\n",
       "</style>\n",
       "<table border=\"1\" class=\"dataframe\">\n",
       "  <thead>\n",
       "    <tr style=\"text-align: right;\">\n",
       "      <th></th>\n",
       "      <th>Name</th>\n",
       "      <th>Age</th>\n",
       "    </tr>\n",
       "  </thead>\n",
       "  <tbody>\n",
       "    <tr>\n",
       "      <th>763</th>\n",
       "      <td>Dean, Miss. Elizabeth Gladys M</td>\n",
       "      <td>0.1667</td>\n",
       "    </tr>\n",
       "  </tbody>\n",
       "</table>\n",
       "</div>"
      ],
      "text/plain": [
       "                               Name     Age\n",
       "763  Dean, Miss. Elizabeth Gladys M  0.1667"
      ]
     },
     "execution_count": 135,
     "metadata": {},
     "output_type": "execute_result"
    }
   ],
   "source": [
    "#youngest Survivor Age and Name\n",
    "#Youngest_Survivor= Group_Survived.agg(np.min)\n",
    "#Youngest_Survivor.loc[['Name','Age']]\n",
    "Survived_G= Group_S.get_group('yes')\n",
    "Y= Survived_G['Age'].min()\n",
    "Youngest=Survived_G[Survived_G['Age']== Y]\n",
    "Youngest.loc[:,['Name','Age']]"
   ]
  },
  {
   "cell_type": "code",
   "execution_count": 140,
   "id": "68bf2592",
   "metadata": {},
   "outputs": [
    {
     "data": {
      "text/plain": [
       "29.506704980842912"
      ]
     },
     "execution_count": 140,
     "metadata": {},
     "output_type": "execute_result"
    }
   ],
   "source": [
    "# second class passengers list- Average age\n",
    "#Second_Class=DataSet1[DataSet1['Class']== '2nd']\n",
    "SecondClass= Group_Class.get_group('2nd')\n",
    "SecondClass['Age'].mean()\n",
    "#Second_Class"
   ]
  },
  {
   "cell_type": "code",
   "execution_count": 106,
   "id": "1c316400",
   "metadata": {},
   "outputs": [
    {
     "data": {
      "text/plain": [
       "181"
      ]
     },
     "execution_count": 106,
     "metadata": {},
     "output_type": "execute_result"
    }
   ],
   "source": [
    "#Number of survivors in 3rd class\n",
    "TC_Survivors=DataSet1.groupby(['Class','Survived'])\n",
    "#Survived in 3rd class\n",
    "TC=TC_Survivors.get_group(('3rd','yes'))\n",
    "TC['Name'].count()"
   ]
  },
  {
   "cell_type": "code",
   "execution_count": 108,
   "id": "60fbc670",
   "metadata": {},
   "outputs": [
    {
     "data": {
      "text/plain": [
       "43.24757281553398"
      ]
     },
     "execution_count": 108,
     "metadata": {},
     "output_type": "execute_result"
    }
   ],
   "source": [
    "#average age of those who died from 1st class passengers\n",
    "#groupby class and survived\n",
    "Group1= DataSet1.groupby(['Class','Survived'])\n",
    "FirstClassDeath=Group1.get_group(('1st','no'))\n",
    "FirstClassDeath['Age'].agg(np.mean)\n",
    "#Find avg of age"
   ]
  },
  {
   "cell_type": "code",
   "execution_count": 144,
   "id": "64796f23",
   "metadata": {},
   "outputs": [
    {
     "data": {
      "image/png": "[encoded data removed]",
      "text/plain": [
       "<Figure size 432x288 with 1 Axes>"
      ]
     },
     "metadata": {},
     "output_type": "display_data"
    }
   ],
   "source": [
    "# Pie chart that showed the distribution of passengers by class.\n",
    "DS2=DataSet1.groupby('Class')\n",
    "Values= [len(DS2.get_group('1st')), len(DS2.get_group('2nd')), len(DS2.get_group('3rd'))]\n",
    "labels=['First Class','Second Class', 'Third Class']\n",
    "Figure, Axes= pt.subplots()\n",
    "Axes.pie(Values, labels=labels,autopct='%1.1f%%')\n",
    "pt.show()"
   ]
  },
  {
   "cell_type": "code",
   "execution_count": 120,
   "id": "7b5e4b8c",
   "metadata": {},
   "outputs": [
    {
     "data": {
      "text/plain": [
       "<AxesSubplot:ylabel='None'>"
      ]
     },
     "execution_count": 120,
     "metadata": {},
     "output_type": "execute_result"
    },
    {
     "data": {
      "image/png": "[encoded data removed]",
      "text/plain": [
       "<Figure size 432x288 with 1 Axes>"
      ]
     },
     "metadata": {},
     "output_type": "display_data"
    }
   ],
   "source": [
    "#Another way of plotting graph\n",
    "DataSet1.groupby(['Class']).size().plot(kind='pie', y='Class')"
   ]
  },
  {
   "cell_type": "code",
   "execution_count": 146,
   "id": "ae7c2e5a",
   "metadata": {},
   "outputs": [
    {
     "data": {
      "image/png": "[encoded data removed]",
      "text/plain": [
       "<Figure size 432x288 with 1 Axes>"
      ]
     },
     "metadata": {
      "needs_background": "light"
     },
     "output_type": "display_data"
    }
   ],
   "source": [
    "Create a histogram that showed the distribution of passengers by age\n",
    "DS2=DataSet1['Age'].hist()"
   ]
  },
  {
   "cell_type": "code",
   "execution_count": null,
   "id": "5b8bff6b",
   "metadata": {},
   "outputs": [],
   "source": []
  }
 ],
 "metadata": {
  "kernelspec": {
   "display_name": "Python 3 (ipykernel)",
   "language": "python",
   "name": "python3"
  },
  "language_info": {
   "codemirror_mode": {
    "name": "ipython",
    "version": 3
   },
   "file_extension": ".py",
   "mimetype": "text/x-python",
   "name": "python",
   "nbconvert_exporter": "python",
   "pygments_lexer": "ipython3",
   "version": "3.9.7"
  }
 },
 "nbformat": 4,
 "nbformat_minor": 5
}
