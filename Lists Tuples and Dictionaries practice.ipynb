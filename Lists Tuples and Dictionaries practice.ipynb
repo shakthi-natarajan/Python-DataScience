{
 "cells": [
  {
   "cell_type": "code",
   "execution_count": 6,
   "id": "4c84925a",
   "metadata": {},
   "outputs": [
    {
     "name": "stdout",
     "output_type": "stream",
     "text": [
      "I love Margarita pizza\n",
      "I love Loaded veggie pizza\n",
      "I love Mediterranian veggie pizza\n",
      "I love Jalapeno and veggie pizza\n",
      "I basically love all types of pizza\n"
     ]
    }
   ],
   "source": [
    "#Lists- looping\n",
    "Pizzas= ['Margarita', 'Loaded veggie', 'Mediterranian veggie', 'Jalapeno and veggie']\n",
    "for pizza in Pizzas:\n",
    "    print('I love '+ pizza + ' pizza')\n",
    "print('I basically love all types of pizza')"
   ]
  },
  {
   "cell_type": "code",
   "execution_count": 28,
   "id": "d5aefdc3",
   "metadata": {},
   "outputs": [
    {
     "name": "stdout",
     "output_type": "stream",
     "text": [
      "1 2 3 4 5 6 7 8 9 10 11 12 13 14 15 16 17 18 19 20 "
     ]
    }
   ],
   "source": [
    "for number in range(1,21):\n",
    "    print(number, end=\" \")"
   ]
  },
  {
   "cell_type": "code",
   "execution_count": 25,
   "id": "b38438dc",
   "metadata": {},
   "outputs": [
    {
     "name": "stdout",
     "output_type": "stream",
     "text": [
      "Min: 1\n",
      "Max: 1000000\n",
      "Sum: 500000500000\n"
     ]
    }
   ],
   "source": [
    "# Converting a range to list\n",
    "List1= list(range(1,1000001))\n",
    "print('Min: '+ str(min(List1)))\n",
    "print('Max: '+ str(max(List1)))\n",
    "print('Sum: '+ str(sum(List1)))"
   ]
  },
  {
   "cell_type": "code",
   "execution_count": 27,
   "id": "fbe1faed",
   "metadata": {},
   "outputs": [
    {
     "name": "stdout",
     "output_type": "stream",
     "text": [
      "[1, 3, 5, 7, 9, 11, 13, 15, 17, 19]\n"
     ]
    }
   ],
   "source": [
    "List2= list(range(1,21,2))\n",
    "print(List2)"
   ]
  },
  {
   "cell_type": "code",
   "execution_count": 30,
   "id": "bce71661",
   "metadata": {},
   "outputs": [
    {
     "name": "stdout",
     "output_type": "stream",
     "text": [
      "3 6 9 12 15 18 21 24 27 30 "
     ]
    }
   ],
   "source": [
    "List3=list(range(3,33,3))\n",
    "for num in List3:\n",
    "    print(num, end=\" \")"
   ]
  },
  {
   "cell_type": "code",
   "execution_count": 32,
   "id": "8615e8b1",
   "metadata": {},
   "outputs": [
    {
     "name": "stdout",
     "output_type": "stream",
     "text": [
      "1\n",
      "8\n",
      "27\n",
      "64\n",
      "125\n",
      "216\n",
      "343\n",
      "512\n",
      "729\n",
      "1000\n"
     ]
    }
   ],
   "source": [
    "# Making a list with cubes of 1 to 10\n",
    "List_cube= []\n",
    "for num in range(1,11):\n",
    "    List_cube.append(num**3)\n",
    "for element in List_cube:\n",
    "    print(element)"
   ]
  },
  {
   "cell_type": "code",
   "execution_count": 44,
   "id": "d144fc59",
   "metadata": {},
   "outputs": [
    {
     "name": "stdout",
     "output_type": "stream",
     "text": [
      "My fav: \n",
      "Margarita\n",
      "Loaded veggie\n",
      "Mediterranian veggie\n",
      "Jalapeno and veggie\n",
      "Cajun veggie\n",
      "\n",
      "Friend fav: \n",
      "Margarita\n",
      "Loaded veggie\n",
      "Mediterranian veggie\n",
      "Jalapeno and veggie\n",
      "Chicken\n"
     ]
    }
   ],
   "source": [
    "#Lists- Creating a copy instead of assigning one variable to another which points to the same list\n",
    "My_Pizzas= ['Margarita', 'Loaded veggie', 'Mediterranian veggie', 'Jalapeno and veggie']\n",
    "Friend_Pizzas= My_Pizzas[:]\n",
    "My_Pizzas.append('Cajun veggie')\n",
    "Friend_Pizzas.append('Chicken')\n",
    "print('My fav: ')\n",
    "for pizza in My_Pizzas:\n",
    "    print(pizza)\n",
    "print('\\nFriend fav: ')\n",
    "for pizza in Friend_Pizzas:\n",
    "    print(pizza)"
   ]
  },
  {
   "cell_type": "code",
   "execution_count": 46,
   "id": "d50005ff",
   "metadata": {},
   "outputs": [
    {
     "name": "stdout",
     "output_type": "stream",
     "text": [
      "Enchilada Sope Chile poblano Tamale "
     ]
    }
   ],
   "source": [
    "# Creating tuples\n",
    "Restaurant_Menu= ('Enchilada', 'Sope', 'Chile poblano', 'Tamale')\n",
    "for item in Restaurant_Menu:\n",
    "    print(item, end=' ')"
   ]
  },
  {
   "cell_type": "code",
   "execution_count": 52,
   "id": "91a56894",
   "metadata": {},
   "outputs": [
    {
     "name": "stdout",
     "output_type": "stream",
     "text": [
      "('Burrito', 'Taco', 'Toastada')\n"
     ]
    }
   ],
   "source": [
    "#Writing over a tuple\n",
    "Restaurant_Menu= ('Burrito', 'Taco', 'Toastada')\n",
    "print(Restaurant_Menu)"
   ]
  },
  {
   "cell_type": "code",
   "execution_count": 53,
   "id": "c13c56aa",
   "metadata": {},
   "outputs": [
    {
     "name": "stdout",
     "output_type": "stream",
     "text": [
      "{'First_Name': 'Shakthi', 'Last_Name': 'Natarajan', 'Age': '35', 'City': 'Charlotte'}\n"
     ]
    }
   ],
   "source": [
    "#Creating Dictionaries\n",
    "Person_Info= {'First_Name': 'Shakthi', 'Last_Name': 'Natarajan', 'Age': '35', 'City': 'Charlotte'}\n",
    "print(Person_Info)"
   ]
  },
  {
   "cell_type": "code",
   "execution_count": 54,
   "id": "c8444e87",
   "metadata": {},
   "outputs": [
    {
     "name": "stdout",
     "output_type": "stream",
     "text": [
      "35\n"
     ]
    }
   ],
   "source": [
    "#Accessing elements by index-- here 'Key'\n",
    "print(Person_Info['Age'])"
   ]
  },
  {
   "cell_type": "code",
   "execution_count": 66,
   "id": "d461f090",
   "metadata": {},
   "outputs": [
    {
     "name": "stdout",
     "output_type": "stream",
     "text": [
      "First_Name Shakthi\n",
      "Last_Name Natarajan\n",
      "Age 35\n",
      "New city San Ramon\n",
      "age 36\n",
      "First_Name\n",
      "Last_Name\n",
      "Age\n",
      "New city\n",
      "age\n",
      "Shakthi\n",
      "Natarajan\n",
      "35\n",
      "San Ramon\n",
      "36\n"
     ]
    }
   ],
   "source": [
    "#Looping individual elements- use items()\n",
    "for key, value in Person_Info.items():\n",
    "    print(key, value)\n",
    "#Looping through keys\n",
    "for key in Person_Info.keys():\n",
    "    print(key)\n",
    "#Looping through values\n",
    "for value in Person_Info.values():\n",
    "    print(value)"
   ]
  },
  {
   "cell_type": "code",
   "execution_count": 58,
   "id": "111866fb",
   "metadata": {},
   "outputs": [
    {
     "name": "stdout",
     "output_type": "stream",
     "text": [
      "{'First_Name': 'Shakthi', 'Last_Name': 'Natarajan', 'Age': '35', 'City': 'Charlotte', 'New city': 'San Ramon'}\n"
     ]
    }
   ],
   "source": [
    "#Add, delete, modify Dictionary elements\n",
    "#Add\n",
    "Person_Info['New city']= 'San Ramon'\n",
    "print(Person_Info)"
   ]
  },
  {
   "cell_type": "code",
   "execution_count": 61,
   "id": "b1b5e720",
   "metadata": {},
   "outputs": [
    {
     "name": "stdout",
     "output_type": "stream",
     "text": [
      "36\n",
      "{'First_Name': 'Shakthi', 'Last_Name': 'Natarajan', 'Age': '35', 'New city': 'San Ramon', 'age': 36}\n"
     ]
    }
   ],
   "source": [
    "#Modify\n",
    "Person_Info['age']= 36\n",
    "print(Person_Info['age'])\n",
    "\n",
    "#Remove\n",
    "del Person_Info['City']\n",
    "print(Person_Info)"
   ]
  },
  {
   "cell_type": "code",
   "execution_count": 69,
   "id": "f034353a",
   "metadata": {},
   "outputs": [
    {
     "name": "stdout",
     "output_type": "stream",
     "text": [
      "Nathan, you have already taken the poll. Thank you for responding\n",
      "Aditi, you have already taken the poll. Thank you for responding\n",
      "Barani, you are invited to take the poll\n",
      "Saranya, you are invited to take the poll\n"
     ]
    }
   ],
   "source": [
    "#Exercise: Polling- using Dictionary and List\n",
    "favorite_languages= {'Vijay': '.Net', 'Aditi': 'Python', 'Shakthi': 'Java', 'Nathan': 'Golang'}\n",
    "Polling_Group=['Nathan', 'Aditi', 'Barani', 'Saranya']\n",
    "\n",
    "for name in Polling_Group:\n",
    "    counter=0\n",
    "    for key in favorite_languages.keys():\n",
    "        if name== key:\n",
    "            counter+=1\n",
    "            print(name+ ', you have already taken the poll. Thank you for responding')\n",
    "            break\n",
    "    if counter==0:\n",
    "        print(name+ ', you are invited to take the poll')\n"
   ]
  },
  {
   "cell_type": "code",
   "execution_count": null,
   "id": "2a919144",
   "metadata": {},
   "outputs": [],
   "source": []
  },
  {
   "cell_type": "code",
   "execution_count": null,
   "id": "0891e704",
   "metadata": {},
   "outputs": [],
   "source": []
  }
 ],
 "metadata": {
  "kernelspec": {
   "display_name": "Python 3 (ipykernel)",
   "language": "python",
   "name": "python3"
  },
  "language_info": {
   "codemirror_mode": {
    "name": "ipython",
    "version": 3
   },
   "file_extension": ".py",
   "mimetype": "text/x-python",
   "name": "python",
   "nbconvert_exporter": "python",
   "pygments_lexer": "ipython3",
   "version": "3.9.7"
  }
 },
 "nbformat": 4,
 "nbformat_minor": 5
}
